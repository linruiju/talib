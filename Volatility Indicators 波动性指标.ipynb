{
 "cells": [
  {
   "cell_type": "markdown",
   "metadata": {},
   "source": [
    "# Volatility Indicators 波动性指标"
   ]
  },
  {
   "cell_type": "code",
   "execution_count": 1,
   "metadata": {},
   "outputs": [],
   "source": [
    "import tushare as ts\n",
    "import pandas as pd\n",
    "import matplotlib.pyplot as plt\n",
    "import numpy as np\n",
    "import talib as ta\n",
    "\n",
    "pro = ts.pro_api()\n",
    "df = pro.daily(ts_code='000001.SZ', start_date='20200101', end_date='20200301')\n"
   ]
  },
  {
   "cell_type": "code",
   "execution_count": 2,
   "metadata": {},
   "outputs": [
    {
     "data": {
      "text/html": [
       "<div>\n",
       "<style scoped>\n",
       "    .dataframe tbody tr th:only-of-type {\n",
       "        vertical-align: middle;\n",
       "    }\n",
       "\n",
       "    .dataframe tbody tr th {\n",
       "        vertical-align: top;\n",
       "    }\n",
       "\n",
       "    .dataframe thead th {\n",
       "        text-align: right;\n",
       "    }\n",
       "</style>\n",
       "<table border=\"1\" class=\"dataframe\">\n",
       "  <thead>\n",
       "    <tr style=\"text-align: right;\">\n",
       "      <th></th>\n",
       "      <th>ts_code</th>\n",
       "      <th>trade_date</th>\n",
       "      <th>open</th>\n",
       "      <th>high</th>\n",
       "      <th>low</th>\n",
       "      <th>close</th>\n",
       "      <th>pre_close</th>\n",
       "      <th>change</th>\n",
       "      <th>pct_chg</th>\n",
       "      <th>vol</th>\n",
       "      <th>amount</th>\n",
       "    </tr>\n",
       "  </thead>\n",
       "  <tbody>\n",
       "    <tr>\n",
       "      <th>0</th>\n",
       "      <td>000001.SZ</td>\n",
       "      <td>20200228</td>\n",
       "      <td>14.85</td>\n",
       "      <td>15.04</td>\n",
       "      <td>14.46</td>\n",
       "      <td>14.50</td>\n",
       "      <td>15.11</td>\n",
       "      <td>-0.61</td>\n",
       "      <td>-4.0371</td>\n",
       "      <td>1300644.45</td>\n",
       "      <td>1906892.413</td>\n",
       "    </tr>\n",
       "    <tr>\n",
       "      <th>1</th>\n",
       "      <td>000001.SZ</td>\n",
       "      <td>20200227</td>\n",
       "      <td>14.96</td>\n",
       "      <td>15.15</td>\n",
       "      <td>14.89</td>\n",
       "      <td>15.11</td>\n",
       "      <td>14.99</td>\n",
       "      <td>0.12</td>\n",
       "      <td>0.8005</td>\n",
       "      <td>975270.90</td>\n",
       "      <td>1464605.739</td>\n",
       "    </tr>\n",
       "    <tr>\n",
       "      <th>2</th>\n",
       "      <td>000001.SZ</td>\n",
       "      <td>20200226</td>\n",
       "      <td>14.77</td>\n",
       "      <td>15.27</td>\n",
       "      <td>14.70</td>\n",
       "      <td>14.99</td>\n",
       "      <td>15.04</td>\n",
       "      <td>-0.05</td>\n",
       "      <td>-0.3324</td>\n",
       "      <td>1176599.15</td>\n",
       "      <td>1769612.245</td>\n",
       "    </tr>\n",
       "    <tr>\n",
       "      <th>3</th>\n",
       "      <td>000001.SZ</td>\n",
       "      <td>20200225</td>\n",
       "      <td>15.00</td>\n",
       "      <td>15.13</td>\n",
       "      <td>14.78</td>\n",
       "      <td>15.04</td>\n",
       "      <td>15.23</td>\n",
       "      <td>-0.19</td>\n",
       "      <td>-1.2475</td>\n",
       "      <td>1144575.02</td>\n",
       "      <td>1710369.786</td>\n",
       "    </tr>\n",
       "    <tr>\n",
       "      <th>4</th>\n",
       "      <td>000001.SZ</td>\n",
       "      <td>20200224</td>\n",
       "      <td>15.46</td>\n",
       "      <td>15.46</td>\n",
       "      <td>15.15</td>\n",
       "      <td>15.23</td>\n",
       "      <td>15.58</td>\n",
       "      <td>-0.35</td>\n",
       "      <td>-2.2465</td>\n",
       "      <td>1191794.50</td>\n",
       "      <td>1820183.854</td>\n",
       "    </tr>\n",
       "  </tbody>\n",
       "</table>\n",
       "</div>"
      ],
      "text/plain": [
       "     ts_code trade_date   open   high    low  close  pre_close  change  \\\n",
       "0  000001.SZ   20200228  14.85  15.04  14.46  14.50      15.11   -0.61   \n",
       "1  000001.SZ   20200227  14.96  15.15  14.89  15.11      14.99    0.12   \n",
       "2  000001.SZ   20200226  14.77  15.27  14.70  14.99      15.04   -0.05   \n",
       "3  000001.SZ   20200225  15.00  15.13  14.78  15.04      15.23   -0.19   \n",
       "4  000001.SZ   20200224  15.46  15.46  15.15  15.23      15.58   -0.35   \n",
       "\n",
       "   pct_chg         vol       amount  \n",
       "0  -4.0371  1300644.45  1906892.413  \n",
       "1   0.8005   975270.90  1464605.739  \n",
       "2  -0.3324  1176599.15  1769612.245  \n",
       "3  -1.2475  1144575.02  1710369.786  \n",
       "4  -2.2465  1191794.50  1820183.854  "
      ]
     },
     "execution_count": 2,
     "metadata": {},
     "output_type": "execute_result"
    }
   ],
   "source": [
    "open = df.open\n",
    "high = df.high\n",
    "low = df.low\n",
    "close = df.close\n",
    "pre_close = df.pre_close\n",
    "change = df.change\n",
    "pct_chg = df.pct_chg\n",
    "volume = df.vol\n",
    "amount = df.amount\n",
    "df.head()"
   ]
  },
  {
   "cell_type": "markdown",
   "metadata": {},
   "source": [
    "## ATR        -          Average True Range - 真实波动幅度均值"
   ]
  },
  {
   "cell_type": "markdown",
   "metadata": {},
   "source": [
    "函数名：ATR"
   ]
  },
  {
   "cell_type": "markdown",
   "metadata": {},
   "source": [
    "名称：真实波动幅度均值"
   ]
  },
  {
   "cell_type": "markdown",
   "metadata": {},
   "source": [
    "简介：真实波动幅度均值（ATR)是 以 N 天的指数移动平均数平均後的交易波动幅度。 "
   ]
  },
  {
   "cell_type": "markdown",
   "metadata": {},
   "source": [
    "计算公式：一天的交易幅度只是单纯地 最大值 - 最小值。"
   ]
  },
  {
   "cell_type": "markdown",
   "metadata": {},
   "source": [
    "而真实波动幅度则包含昨天的收盘价，若其在今天的幅度之外：\n",
    "真实波动幅度 = max(最大值,昨日收盘价) − min(最小值,昨日收盘价) 真实波动幅度均值便是「真实波动幅度」的 N 日 指数移动平均数。"
   ]
  },
  {
   "cell_type": "raw",
   "metadata": {},
   "source": [
    "特性：：\n",
    "\n",
    "波动幅度的概念表示可以显示出交易者的期望和热情。\n",
    "大幅的或增加中的波动幅度表示交易者在当天可能准备持续买进或卖出股票。\n",
    "波动幅度的减少则表示交易者对股市没有太大的兴趣。"
   ]
  },
  {
   "cell_type": "code",
   "execution_count": 3,
   "metadata": {},
   "outputs": [],
   "source": [
    "real = ta.ATR(high, low, close, timeperiod=14)"
   ]
  },
  {
   "cell_type": "markdown",
   "metadata": {},
   "source": [
    "## NATR        -         Normalized Average True Range - 归一化波动幅度均值"
   ]
  },
  {
   "cell_type": "markdown",
   "metadata": {},
   "source": [
    "函数名：NATR"
   ]
  },
  {
   "cell_type": "markdown",
   "metadata": {},
   "source": [
    "名称：归一化波动幅度均值"
   ]
  },
  {
   "cell_type": "markdown",
   "metadata": {},
   "source": [
    "简介：归一化波动幅度均值（NATR)"
   ]
  },
  {
   "cell_type": "code",
   "execution_count": 4,
   "metadata": {},
   "outputs": [],
   "source": [
    "real = ta.NATR(high, low, close, timeperiod=14)"
   ]
  },
  {
   "cell_type": "markdown",
   "metadata": {},
   "source": [
    "## TRANGE       -        True Range - 真正的范围"
   ]
  },
  {
   "cell_type": "markdown",
   "metadata": {},
   "source": [
    "函数名：TRANGE"
   ]
  },
  {
   "cell_type": "markdown",
   "metadata": {},
   "source": [
    "名称：真正的范围"
   ]
  },
  {
   "cell_type": "code",
   "execution_count": 5,
   "metadata": {},
   "outputs": [],
   "source": [
    "real = ta.TRANGE(high, low, close)"
   ]
  }
 ],
 "metadata": {
  "kernelspec": {
   "display_name": "Python 3",
   "language": "python",
   "name": "python3"
  },
  "language_info": {
   "codemirror_mode": {
    "name": "ipython",
    "version": 3
   },
   "file_extension": ".py",
   "mimetype": "text/x-python",
   "name": "python",
   "nbconvert_exporter": "python",
   "pygments_lexer": "ipython3",
   "version": "3.7.3"
  }
 },
 "nbformat": 4,
 "nbformat_minor": 2
}
