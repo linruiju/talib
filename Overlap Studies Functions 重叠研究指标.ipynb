{
 "cells": [
  {
   "cell_type": "markdown",
   "metadata": {},
   "source": [
    "# Overlap Studies Functions 重叠研究指标"
   ]
  },
  {
   "cell_type": "code",
   "execution_count": 1,
   "metadata": {},
   "outputs": [],
   "source": [
    "import tushare as ts\n",
    "import pandas as pd\n",
    "import matplotlib.pyplot as plt\n",
    "import numpy as np\n",
    "import talib as ta\n",
    "\n",
    "pro = ts.pro_api()\n",
    "df = pro.daily(ts_code='000001.SZ', start_date='20200101', end_date='20200301')\n"
   ]
  },
  {
   "cell_type": "code",
   "execution_count": 2,
   "metadata": {},
   "outputs": [
    {
     "data": {
      "text/html": [
       "<div>\n",
       "<style scoped>\n",
       "    .dataframe tbody tr th:only-of-type {\n",
       "        vertical-align: middle;\n",
       "    }\n",
       "\n",
       "    .dataframe tbody tr th {\n",
       "        vertical-align: top;\n",
       "    }\n",
       "\n",
       "    .dataframe thead th {\n",
       "        text-align: right;\n",
       "    }\n",
       "</style>\n",
       "<table border=\"1\" class=\"dataframe\">\n",
       "  <thead>\n",
       "    <tr style=\"text-align: right;\">\n",
       "      <th></th>\n",
       "      <th>ts_code</th>\n",
       "      <th>trade_date</th>\n",
       "      <th>open</th>\n",
       "      <th>high</th>\n",
       "      <th>low</th>\n",
       "      <th>close</th>\n",
       "      <th>pre_close</th>\n",
       "      <th>change</th>\n",
       "      <th>pct_chg</th>\n",
       "      <th>vol</th>\n",
       "      <th>amount</th>\n",
       "    </tr>\n",
       "  </thead>\n",
       "  <tbody>\n",
       "    <tr>\n",
       "      <th>0</th>\n",
       "      <td>000001.SZ</td>\n",
       "      <td>20200228</td>\n",
       "      <td>14.85</td>\n",
       "      <td>15.04</td>\n",
       "      <td>14.46</td>\n",
       "      <td>14.50</td>\n",
       "      <td>15.11</td>\n",
       "      <td>-0.61</td>\n",
       "      <td>-4.0371</td>\n",
       "      <td>1300644.45</td>\n",
       "      <td>1906892.413</td>\n",
       "    </tr>\n",
       "    <tr>\n",
       "      <th>1</th>\n",
       "      <td>000001.SZ</td>\n",
       "      <td>20200227</td>\n",
       "      <td>14.96</td>\n",
       "      <td>15.15</td>\n",
       "      <td>14.89</td>\n",
       "      <td>15.11</td>\n",
       "      <td>14.99</td>\n",
       "      <td>0.12</td>\n",
       "      <td>0.8005</td>\n",
       "      <td>975270.90</td>\n",
       "      <td>1464605.739</td>\n",
       "    </tr>\n",
       "    <tr>\n",
       "      <th>2</th>\n",
       "      <td>000001.SZ</td>\n",
       "      <td>20200226</td>\n",
       "      <td>14.77</td>\n",
       "      <td>15.27</td>\n",
       "      <td>14.70</td>\n",
       "      <td>14.99</td>\n",
       "      <td>15.04</td>\n",
       "      <td>-0.05</td>\n",
       "      <td>-0.3324</td>\n",
       "      <td>1176599.15</td>\n",
       "      <td>1769612.245</td>\n",
       "    </tr>\n",
       "    <tr>\n",
       "      <th>3</th>\n",
       "      <td>000001.SZ</td>\n",
       "      <td>20200225</td>\n",
       "      <td>15.00</td>\n",
       "      <td>15.13</td>\n",
       "      <td>14.78</td>\n",
       "      <td>15.04</td>\n",
       "      <td>15.23</td>\n",
       "      <td>-0.19</td>\n",
       "      <td>-1.2475</td>\n",
       "      <td>1144575.02</td>\n",
       "      <td>1710369.786</td>\n",
       "    </tr>\n",
       "    <tr>\n",
       "      <th>4</th>\n",
       "      <td>000001.SZ</td>\n",
       "      <td>20200224</td>\n",
       "      <td>15.46</td>\n",
       "      <td>15.46</td>\n",
       "      <td>15.15</td>\n",
       "      <td>15.23</td>\n",
       "      <td>15.58</td>\n",
       "      <td>-0.35</td>\n",
       "      <td>-2.2465</td>\n",
       "      <td>1191794.50</td>\n",
       "      <td>1820183.854</td>\n",
       "    </tr>\n",
       "  </tbody>\n",
       "</table>\n",
       "</div>"
      ],
      "text/plain": [
       "     ts_code trade_date   open   high    low  close  pre_close  change  \\\n",
       "0  000001.SZ   20200228  14.85  15.04  14.46  14.50      15.11   -0.61   \n",
       "1  000001.SZ   20200227  14.96  15.15  14.89  15.11      14.99    0.12   \n",
       "2  000001.SZ   20200226  14.77  15.27  14.70  14.99      15.04   -0.05   \n",
       "3  000001.SZ   20200225  15.00  15.13  14.78  15.04      15.23   -0.19   \n",
       "4  000001.SZ   20200224  15.46  15.46  15.15  15.23      15.58   -0.35   \n",
       "\n",
       "   pct_chg         vol       amount  \n",
       "0  -4.0371  1300644.45  1906892.413  \n",
       "1   0.8005   975270.90  1464605.739  \n",
       "2  -0.3324  1176599.15  1769612.245  \n",
       "3  -1.2475  1144575.02  1710369.786  \n",
       "4  -2.2465  1191794.50  1820183.854  "
      ]
     },
     "execution_count": 2,
     "metadata": {},
     "output_type": "execute_result"
    }
   ],
   "source": [
    "open = df.open\n",
    "high = df.high\n",
    "low = df.low\n",
    "close = df.close\n",
    "pre_close = df.pre_close\n",
    "change = df.change\n",
    "pct_chg = df.pct_chg\n",
    "volume = df.vol\n",
    "amount = df.amount\n",
    "df.head()"
   ]
  },
  {
   "cell_type": "markdown",
   "metadata": {},
   "source": [
    "## BBANDS - Bollinger Bands  -  布林带"
   ]
  },
  {
   "cell_type": "markdown",
   "metadata": {},
   "source": [
    "函数名：BBANDS                         "
   ]
  },
  {
   "cell_type": "markdown",
   "metadata": {},
   "source": [
    "名称： 布林线指标"
   ]
  },
  {
   "cell_type": "markdown",
   "metadata": {},
   "source": [
    " 简介：其利用统计原理，求出股价的标准差及其信赖区间，从而确定股价的波动范围及未来走势，利用波带显示股价的安全高低价位，因而也被称为布林带。"
   ]
  },
  {
   "cell_type": "code",
   "execution_count": 3,
   "metadata": {},
   "outputs": [],
   "source": [
    "upperband, middleband, lowerband = ta.BBANDS(close, timeperiod=5, nbdevup=2, nbdevdn=2, matype=0)"
   ]
  },
  {
   "cell_type": "markdown",
   "metadata": {},
   "source": [
    "## DEMA - Double Exponential Moving Average - 双指数移动平均线"
   ]
  },
  {
   "cell_type": "markdown",
   "metadata": {},
   "source": [
    "函数名：DEMA"
   ]
  },
  {
   "cell_type": "markdown",
   "metadata": {},
   "source": [
    "名称： 双移动平均线"
   ]
  },
  {
   "cell_type": "markdown",
   "metadata": {},
   "source": [
    "简介：两条移动平均线来产生趋势信号，较长期者用来识别趋势，较短期者用来选择时机。正是两条平均线及价格三者的相互作用，才共同产生了趋势信号。"
   ]
  },
  {
   "cell_type": "code",
   "execution_count": 4,
   "metadata": {},
   "outputs": [],
   "source": [
    "real = ta.DEMA(close, timeperiod=30)"
   ]
  },
  {
   "cell_type": "markdown",
   "metadata": {},
   "source": [
    "## EMA - Exponential Moving Average - 指数滑动平均"
   ]
  },
  {
   "cell_type": "markdown",
   "metadata": {},
   "source": [
    "函数名：EMA"
   ]
  },
  {
   "cell_type": "markdown",
   "metadata": {},
   "source": [
    "名称： 指数平均数"
   ]
  },
  {
   "cell_type": "markdown",
   "metadata": {},
   "source": [
    "简介：是一种趋向类指标，其构造原理是仍然对价格收盘价进行算术平均，并根据计算结果来进行分析，用于判断价格未来走势的变动趋势。"
   ]
  },
  {
   "cell_type": "code",
   "execution_count": 5,
   "metadata": {},
   "outputs": [],
   "source": [
    "real = ta.EMA(close, timeperiod=30)"
   ]
  },
  {
   "cell_type": "markdown",
   "metadata": {},
   "source": [
    "## HT_TRENDLINE - Hilbert Transform - Instantaneous Trendline - 希尔伯特瞬时变换"
   ]
  },
  {
   "cell_type": "markdown",
   "metadata": {},
   "source": [
    "函数名：HT_TRENDLINE"
   ]
  },
  {
   "cell_type": "markdown",
   "metadata": {},
   "source": [
    "名称： 希尔伯特瞬时变换"
   ]
  },
  {
   "cell_type": "markdown",
   "metadata": {},
   "source": [
    "简介：是一种趋向类指标，其构造原理是仍然对价格收盘价进行算术平均，并根据计算结果来进行分析，用于判断价格未来走势的变动趋势。"
   ]
  },
  {
   "cell_type": "code",
   "execution_count": 6,
   "metadata": {},
   "outputs": [],
   "source": [
    "real = ta.HT_TRENDLINE(close)"
   ]
  },
  {
   "cell_type": "markdown",
   "metadata": {},
   "source": [
    "## KAMA - Kaufman Adaptive Moving Average  - 卡玛考夫曼自适应移动平均"
   ]
  },
  {
   "cell_type": "markdown",
   "metadata": {},
   "source": [
    "函数名：KAMA"
   ]
  },
  {
   "cell_type": "markdown",
   "metadata": {},
   "source": [
    "名称： 考夫曼的自适应移动平均线"
   ]
  },
  {
   "cell_type": "markdown",
   "metadata": {},
   "source": [
    "简介：短期均线贴近价格走势，灵敏度高，但会有很多噪声，产生虚假信号；长期均线在判断趋势上一般比较准确 ，但是长期均线有着严重滞后的问题。我们想得到这样的均线，当价格沿一个方向快速移动时，短期的移动 平均线是最合适的；当价格在横盘的过程中，长期移动平均线是合适的。"
   ]
  },
  {
   "cell_type": "code",
   "execution_count": 7,
   "metadata": {},
   "outputs": [],
   "source": [
    "real = ta.KAMA(close, timeperiod=30)"
   ]
  },
  {
   "cell_type": "markdown",
   "metadata": {},
   "source": [
    "## MA - Moving average - 移动平均线"
   ]
  },
  {
   "cell_type": "markdown",
   "metadata": {},
   "source": [
    "函数名：MA"
   ]
  },
  {
   "cell_type": "markdown",
   "metadata": {},
   "source": [
    "名称： 移动平均线"
   ]
  },
  {
   "cell_type": "markdown",
   "metadata": {},
   "source": [
    "简介：移动平均线，Moving Average，简称MA，原本的意思是移动平均，由于我们将其制作成线形，所以一般称之为移动平均线，简称均线。它是将某一段时间的收盘价之和除以该周期。 比如日线MA5指5天内的收盘价除以5 。"
   ]
  },
  {
   "cell_type": "code",
   "execution_count": 8,
   "metadata": {},
   "outputs": [],
   "source": [
    "real = ta.MA(close, timeperiod=30, matype=0)"
   ]
  },
  {
   "cell_type": "markdown",
   "metadata": {},
   "source": [
    "## MAMA - MESA Adaptive Moving Average - 自适应移动平均线"
   ]
  },
  {
   "cell_type": "code",
   "execution_count": 9,
   "metadata": {},
   "outputs": [
    {
     "ename": "Exception",
     "evalue": "TA_MAMA function failed with error code 2: Bad Parameter (TA_BAD_PARAM)",
     "output_type": "error",
     "traceback": [
      "\u001b[1;31m---------------------------------------------------------------------------\u001b[0m",
      "\u001b[1;31mException\u001b[0m                                 Traceback (most recent call last)",
      "\u001b[1;32m<ipython-input-9-fb579f33c4dd>\u001b[0m in \u001b[0;36m<module>\u001b[1;34m\u001b[0m\n\u001b[1;32m----> 1\u001b[1;33m \u001b[0mmama\u001b[0m\u001b[1;33m,\u001b[0m \u001b[0mfama\u001b[0m \u001b[1;33m=\u001b[0m \u001b[0mta\u001b[0m\u001b[1;33m.\u001b[0m\u001b[0mMAMA\u001b[0m\u001b[1;33m(\u001b[0m\u001b[0mclose\u001b[0m\u001b[1;33m,\u001b[0m\u001b[0mfastlimit\u001b[0m\u001b[1;33m=\u001b[0m\u001b[1;36m0\u001b[0m\u001b[1;33m,\u001b[0m \u001b[0mslowlimit\u001b[0m\u001b[1;33m=\u001b[0m\u001b[1;36m0\u001b[0m\u001b[1;33m)\u001b[0m\u001b[1;33m\u001b[0m\u001b[1;33m\u001b[0m\u001b[0m\n\u001b[0m",
      "\u001b[1;32mD:\\anaconda\\lib\\site-packages\\talib\\__init__.py\u001b[0m in \u001b[0;36mwrapper\u001b[1;34m(*args, **kwargs)\u001b[0m\n\u001b[0;32m     30\u001b[0m                       for k, v in kwargs.items()}\n\u001b[0;32m     31\u001b[0m \u001b[1;33m\u001b[0m\u001b[0m\n\u001b[1;32m---> 32\u001b[1;33m             \u001b[0mresult\u001b[0m \u001b[1;33m=\u001b[0m \u001b[0mfunc\u001b[0m\u001b[1;33m(\u001b[0m\u001b[1;33m*\u001b[0m\u001b[0margs\u001b[0m\u001b[1;33m,\u001b[0m \u001b[1;33m**\u001b[0m\u001b[0mkwargs\u001b[0m\u001b[1;33m)\u001b[0m\u001b[1;33m\u001b[0m\u001b[1;33m\u001b[0m\u001b[0m\n\u001b[0m\u001b[0;32m     33\u001b[0m \u001b[1;33m\u001b[0m\u001b[0m\n\u001b[0;32m     34\u001b[0m             \u001b[1;31m# Series was passed in, Series gets out; re-apply index\u001b[0m\u001b[1;33m\u001b[0m\u001b[1;33m\u001b[0m\u001b[1;33m\u001b[0m\u001b[0m\n",
      "\u001b[1;32m_func.pxi\u001b[0m in \u001b[0;36mtalib._ta_lib.MAMA\u001b[1;34m()\u001b[0m\n",
      "\u001b[1;32m_common.pxi\u001b[0m in \u001b[0;36mtalib._ta_lib._ta_check_success\u001b[1;34m()\u001b[0m\n",
      "\u001b[1;31mException\u001b[0m: TA_MAMA function failed with error code 2: Bad Parameter (TA_BAD_PARAM)"
     ]
    }
   ],
   "source": [
    "mama, fama = ta.MAMA(close,fastlimit=0, slowlimit=0)"
   ]
  },
  {
   "cell_type": "markdown",
   "metadata": {},
   "source": [
    "## MAVP - Moving average with variable period - 变周期移动平均"
   ]
  },
  {
   "cell_type": "code",
   "execution_count": 10,
   "metadata": {},
   "outputs": [],
   "source": [
    "real = ta.MAVP(close, periods= close, minperiod=2, maxperiod=30, matype=0)"
   ]
  },
  {
   "cell_type": "markdown",
   "metadata": {},
   "source": [
    "## MIDPOINT - MidPoint over period - 在周期的中点"
   ]
  },
  {
   "cell_type": "code",
   "execution_count": 11,
   "metadata": {},
   "outputs": [],
   "source": [
    "real = ta.MIDPOINT(close, timeperiod=14)"
   ]
  },
  {
   "cell_type": "markdown",
   "metadata": {},
   "source": [
    "## MIDPRICE - Midpoint Price over period - 中间时段价格"
   ]
  },
  {
   "cell_type": "code",
   "execution_count": 12,
   "metadata": {},
   "outputs": [],
   "source": [
    "real = ta.MIDPRICE(high, low, timeperiod=14)"
   ]
  },
  {
   "cell_type": "markdown",
   "metadata": {},
   "source": [
    "## SAR - Parabolic SAR - 抛物线转向指标"
   ]
  },
  {
   "cell_type": "markdown",
   "metadata": {},
   "source": [
    "函数名：SAR"
   ]
  },
  {
   "cell_type": "markdown",
   "metadata": {},
   "source": [
    "名称： 抛物线指标"
   ]
  },
  {
   "cell_type": "markdown",
   "metadata": {},
   "source": [
    "简介：抛物线转向也称停损点转向，是利用抛物线方式，随时调整停损点位置以观察买卖点。由于停损点（又称转向点SAR）以弧形的方式移动，故称之为抛物线转向指标 。"
   ]
  },
  {
   "cell_type": "code",
   "execution_count": 13,
   "metadata": {},
   "outputs": [],
   "source": [
    "real = ta.SAR(high, low, acceleration=0, maximum=0)"
   ]
  },
  {
   "cell_type": "markdown",
   "metadata": {},
   "source": [
    "## SAREXT - Parabolic SAR - Extended - 抛物线转向指标扩展"
   ]
  },
  {
   "cell_type": "code",
   "execution_count": 14,
   "metadata": {},
   "outputs": [],
   "source": [
    "real = ta.SAREXT(high, low, startvalue=0, offsetonreverse=0, accelerationinitlong=0, \n",
    "              accelerationlong=0, accelerationmaxlong=0, accelerationinitshort=0, accelerationshort=0, accelerationmaxshort=0)"
   ]
  },
  {
   "cell_type": "markdown",
   "metadata": {},
   "source": [
    "## SMA - Simple Moving Average - 简单移动平均线"
   ]
  },
  {
   "cell_type": "markdown",
   "metadata": {},
   "source": [
    "函数名：SMA"
   ]
  },
  {
   "cell_type": "markdown",
   "metadata": {},
   "source": [
    "名称： 简单移动平均线"
   ]
  },
  {
   "cell_type": "markdown",
   "metadata": {},
   "source": [
    "简介：移动平均线，Moving Average，简称MA，原本的意思是移动平均，由于我们将其制作成线形，所以一般称之为移动平均线，简称均线。它是将某一段时间的收盘价之和除以该周期。 比如日线MA5指5天内的收盘价除以5 。"
   ]
  },
  {
   "cell_type": "code",
   "execution_count": 15,
   "metadata": {},
   "outputs": [],
   "source": [
    "real = ta.SMA(close, timeperiod=30)"
   ]
  },
  {
   "cell_type": "markdown",
   "metadata": {},
   "source": [
    "## T3 - Triple Exponential Moving Average -  (T3) 三重指数移动平均线"
   ]
  },
  {
   "cell_type": "markdown",
   "metadata": {},
   "source": [
    "函数名：T3"
   ]
  },
  {
   "cell_type": "markdown",
   "metadata": {},
   "source": [
    "名称：三重指数移动平均线"
   ]
  },
  {
   "cell_type": "markdown",
   "metadata": {},
   "source": [
    "简介：TRIX长线操作时采用本指标的讯号，长时间按照本指标讯号交易，获利百分比大于损失百分比，利润相当可观。 比如日线MA5指5天内的收盘价除以5 。"
   ]
  },
  {
   "cell_type": "code",
   "execution_count": 16,
   "metadata": {},
   "outputs": [],
   "source": [
    "real = ta.T3(close, timeperiod=5, vfactor=0)"
   ]
  },
  {
   "cell_type": "markdown",
   "metadata": {},
   "source": [
    "## TEMA - Triple Exponential Moving Average - 三重指数移动平均线"
   ]
  },
  {
   "cell_type": "code",
   "execution_count": 17,
   "metadata": {},
   "outputs": [],
   "source": [
    "real = ta.TEMA(close, timeperiod=30)"
   ]
  },
  {
   "cell_type": "markdown",
   "metadata": {},
   "source": [
    "## TRIMA - Triangular Moving Average - 三角移动平均线"
   ]
  },
  {
   "cell_type": "code",
   "execution_count": 18,
   "metadata": {},
   "outputs": [],
   "source": [
    "real = ta.TRIMA(close, timeperiod=30)"
   ]
  },
  {
   "cell_type": "markdown",
   "metadata": {},
   "source": [
    "## WMA - Weighted Moving Average - 加权移动平均线"
   ]
  },
  {
   "cell_type": "markdown",
   "metadata": {},
   "source": [
    "函数名：WMA"
   ]
  },
  {
   "cell_type": "markdown",
   "metadata": {},
   "source": [
    "名称：加权移动平均线"
   ]
  },
  {
   "cell_type": "markdown",
   "metadata": {},
   "source": [
    "简介：移动加权平均法是指以每次进货的成本加上原有库存存货的成本，除以每次进货数量与原有库存存货的数量之和，据以计算加权平均单位成本，以此为基础计算当月发出存货的成本和期末存货的成本的一种方法。"
   ]
  },
  {
   "cell_type": "code",
   "execution_count": 19,
   "metadata": {},
   "outputs": [],
   "source": [
    "real = ta.WMA(close, timeperiod=30)"
   ]
  },
  {
   "cell_type": "code",
   "execution_count": null,
   "metadata": {},
   "outputs": [],
   "source": []
  }
 ],
 "metadata": {
  "kernelspec": {
   "display_name": "Python 3",
   "language": "python",
   "name": "python3"
  },
  "language_info": {
   "codemirror_mode": {
    "name": "ipython",
    "version": 3
   },
   "file_extension": ".py",
   "mimetype": "text/x-python",
   "name": "python",
   "nbconvert_exporter": "python",
   "pygments_lexer": "ipython3",
   "version": "3.7.3"
  }
 },
 "nbformat": 4,
 "nbformat_minor": 2
}
