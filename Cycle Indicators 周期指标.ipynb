{
 "cells": [
  {
   "cell_type": "markdown",
   "metadata": {},
   "source": [
    "# Cycle Indicators 周期指标"
   ]
  },
  {
   "cell_type": "code",
   "execution_count": 1,
   "metadata": {},
   "outputs": [],
   "source": [
    "import tushare as ts\n",
    "import pandas as pd\n",
    "import matplotlib.pyplot as plt\n",
    "import numpy as np\n",
    "import talib as ta\n",
    "\n",
    "pro = ts.pro_api()\n",
    "df = pro.daily(ts_code='000001.SZ', start_date='20200101', end_date='20200301')\n"
   ]
  },
  {
   "cell_type": "code",
   "execution_count": 2,
   "metadata": {},
   "outputs": [
    {
     "data": {
      "text/html": [
       "<div>\n",
       "<style scoped>\n",
       "    .dataframe tbody tr th:only-of-type {\n",
       "        vertical-align: middle;\n",
       "    }\n",
       "\n",
       "    .dataframe tbody tr th {\n",
       "        vertical-align: top;\n",
       "    }\n",
       "\n",
       "    .dataframe thead th {\n",
       "        text-align: right;\n",
       "    }\n",
       "</style>\n",
       "<table border=\"1\" class=\"dataframe\">\n",
       "  <thead>\n",
       "    <tr style=\"text-align: right;\">\n",
       "      <th></th>\n",
       "      <th>ts_code</th>\n",
       "      <th>trade_date</th>\n",
       "      <th>open</th>\n",
       "      <th>high</th>\n",
       "      <th>low</th>\n",
       "      <th>close</th>\n",
       "      <th>pre_close</th>\n",
       "      <th>change</th>\n",
       "      <th>pct_chg</th>\n",
       "      <th>vol</th>\n",
       "      <th>amount</th>\n",
       "    </tr>\n",
       "  </thead>\n",
       "  <tbody>\n",
       "    <tr>\n",
       "      <th>0</th>\n",
       "      <td>000001.SZ</td>\n",
       "      <td>20200228</td>\n",
       "      <td>14.85</td>\n",
       "      <td>15.04</td>\n",
       "      <td>14.46</td>\n",
       "      <td>14.50</td>\n",
       "      <td>15.11</td>\n",
       "      <td>-0.61</td>\n",
       "      <td>-4.0371</td>\n",
       "      <td>1300644.45</td>\n",
       "      <td>1906892.413</td>\n",
       "    </tr>\n",
       "    <tr>\n",
       "      <th>1</th>\n",
       "      <td>000001.SZ</td>\n",
       "      <td>20200227</td>\n",
       "      <td>14.96</td>\n",
       "      <td>15.15</td>\n",
       "      <td>14.89</td>\n",
       "      <td>15.11</td>\n",
       "      <td>14.99</td>\n",
       "      <td>0.12</td>\n",
       "      <td>0.8005</td>\n",
       "      <td>975270.90</td>\n",
       "      <td>1464605.739</td>\n",
       "    </tr>\n",
       "    <tr>\n",
       "      <th>2</th>\n",
       "      <td>000001.SZ</td>\n",
       "      <td>20200226</td>\n",
       "      <td>14.77</td>\n",
       "      <td>15.27</td>\n",
       "      <td>14.70</td>\n",
       "      <td>14.99</td>\n",
       "      <td>15.04</td>\n",
       "      <td>-0.05</td>\n",
       "      <td>-0.3324</td>\n",
       "      <td>1176599.15</td>\n",
       "      <td>1769612.245</td>\n",
       "    </tr>\n",
       "    <tr>\n",
       "      <th>3</th>\n",
       "      <td>000001.SZ</td>\n",
       "      <td>20200225</td>\n",
       "      <td>15.00</td>\n",
       "      <td>15.13</td>\n",
       "      <td>14.78</td>\n",
       "      <td>15.04</td>\n",
       "      <td>15.23</td>\n",
       "      <td>-0.19</td>\n",
       "      <td>-1.2475</td>\n",
       "      <td>1144575.02</td>\n",
       "      <td>1710369.786</td>\n",
       "    </tr>\n",
       "    <tr>\n",
       "      <th>4</th>\n",
       "      <td>000001.SZ</td>\n",
       "      <td>20200224</td>\n",
       "      <td>15.46</td>\n",
       "      <td>15.46</td>\n",
       "      <td>15.15</td>\n",
       "      <td>15.23</td>\n",
       "      <td>15.58</td>\n",
       "      <td>-0.35</td>\n",
       "      <td>-2.2465</td>\n",
       "      <td>1191794.50</td>\n",
       "      <td>1820183.854</td>\n",
       "    </tr>\n",
       "  </tbody>\n",
       "</table>\n",
       "</div>"
      ],
      "text/plain": [
       "     ts_code trade_date   open   high    low  close  pre_close  change  \\\n",
       "0  000001.SZ   20200228  14.85  15.04  14.46  14.50      15.11   -0.61   \n",
       "1  000001.SZ   20200227  14.96  15.15  14.89  15.11      14.99    0.12   \n",
       "2  000001.SZ   20200226  14.77  15.27  14.70  14.99      15.04   -0.05   \n",
       "3  000001.SZ   20200225  15.00  15.13  14.78  15.04      15.23   -0.19   \n",
       "4  000001.SZ   20200224  15.46  15.46  15.15  15.23      15.58   -0.35   \n",
       "\n",
       "   pct_chg         vol       amount  \n",
       "0  -4.0371  1300644.45  1906892.413  \n",
       "1   0.8005   975270.90  1464605.739  \n",
       "2  -0.3324  1176599.15  1769612.245  \n",
       "3  -1.2475  1144575.02  1710369.786  \n",
       "4  -2.2465  1191794.50  1820183.854  "
      ]
     },
     "execution_count": 2,
     "metadata": {},
     "output_type": "execute_result"
    }
   ],
   "source": [
    "open = df.open\n",
    "high = df.high\n",
    "low = df.low\n",
    "close = df.close\n",
    "pre_close = df.pre_close\n",
    "change = df.change\n",
    "pct_chg = df.pct_chg\n",
    "volume = df.vol\n",
    "amount = df.amount\n",
    "df.head()"
   ]
  },
  {
   "cell_type": "markdown",
   "metadata": {},
   "source": [
    "## HT_DCPERIOD          Hilbert Transform - Dominant Cycle Period - 希尔伯特变换-主导周期"
   ]
  },
  {
   "cell_type": "markdown",
   "metadata": {},
   "source": [
    "函数名：HT_DCPERIOD"
   ]
  },
  {
   "cell_type": "markdown",
   "metadata": {},
   "source": [
    "名称： 希尔伯特变换-主导周期"
   ]
  },
  {
   "cell_type": "markdown",
   "metadata": {},
   "source": [
    "简介：将价格作为信息信号，计算价格处在的周期的位置，作为择时的依据。"
   ]
  },
  {
   "cell_type": "code",
   "execution_count": 3,
   "metadata": {},
   "outputs": [],
   "source": [
    "real = ta.HT_DCPERIOD(close)"
   ]
  },
  {
   "cell_type": "markdown",
   "metadata": {},
   "source": [
    "## HT_DCPHASE           Hilbert Transform - Dominant Cycle Phase - 希尔伯特变换-主导循环阶段"
   ]
  },
  {
   "cell_type": "markdown",
   "metadata": {},
   "source": [
    "函数名：HT_DCPHASE"
   ]
  },
  {
   "cell_type": "markdown",
   "metadata": {},
   "source": [
    "名称： 希尔伯特变换-主导循环阶段"
   ]
  },
  {
   "cell_type": "code",
   "execution_count": 4,
   "metadata": {},
   "outputs": [],
   "source": [
    "real = ta.HT_DCPHASE(close)"
   ]
  },
  {
   "cell_type": "markdown",
   "metadata": {},
   "source": [
    "## HT_PHASOR            Hilbert Transform - Phasor Components - 希尔伯特变换-希尔伯特变换相量分量"
   ]
  },
  {
   "cell_type": "markdown",
   "metadata": {},
   "source": [
    "函数名：HT_DCPHASE"
   ]
  },
  {
   "cell_type": "markdown",
   "metadata": {},
   "source": [
    "名称： 希尔伯特变换-希尔伯特变换相量分量"
   ]
  },
  {
   "cell_type": "code",
   "execution_count": 5,
   "metadata": {},
   "outputs": [],
   "source": [
    "inphase, quadrature = ta.HT_PHASOR(close)"
   ]
  },
  {
   "cell_type": "markdown",
   "metadata": {},
   "source": [
    "## HT_SINE              Hilbert Transform - SineWave - 希尔伯特变换-正弦波"
   ]
  },
  {
   "cell_type": "markdown",
   "metadata": {},
   "source": [
    "函数名：HT_DCPHASE"
   ]
  },
  {
   "cell_type": "markdown",
   "metadata": {},
   "source": [
    "名称： 希尔伯特变换-正弦波 "
   ]
  },
  {
   "cell_type": "code",
   "execution_count": 6,
   "metadata": {},
   "outputs": [],
   "source": [
    "sine, leadsine = ta.HT_SINE(close)"
   ]
  },
  {
   "cell_type": "markdown",
   "metadata": {},
   "source": [
    "## HT_TRENDMODE         Hilbert Transform - Trend vs Cycle Mode - 希尔伯特变换-趋势与周期模式"
   ]
  },
  {
   "cell_type": "markdown",
   "metadata": {},
   "source": [
    "函数名：HT_DCPHASE"
   ]
  },
  {
   "cell_type": "markdown",
   "metadata": {},
   "source": [
    "名称： 希尔伯特变换-趋势与周期模式"
   ]
  },
  {
   "cell_type": "code",
   "execution_count": 7,
   "metadata": {},
   "outputs": [],
   "source": [
    "integer = ta.HT_TRENDMODE(close)"
   ]
  }
 ],
 "metadata": {
  "kernelspec": {
   "display_name": "Python 3",
   "language": "python",
   "name": "python3"
  },
  "language_info": {
   "codemirror_mode": {
    "name": "ipython",
    "version": 3
   },
   "file_extension": ".py",
   "mimetype": "text/x-python",
   "name": "python",
   "nbconvert_exporter": "python",
   "pygments_lexer": "ipython3",
   "version": "3.7.3"
  }
 },
 "nbformat": 4,
 "nbformat_minor": 2
}
