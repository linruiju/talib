{
 "cells": [
  {
   "cell_type": "markdown",
   "metadata": {},
   "source": [
    "# Volume Indicators 成交量指标"
   ]
  },
  {
   "cell_type": "code",
   "execution_count": 1,
   "metadata": {},
   "outputs": [],
   "source": [
    "import tushare as ts\n",
    "import pandas as pd\n",
    "import matplotlib.pyplot as plt\n",
    "import numpy as np\n",
    "import talib as ta\n",
    "\n",
    "pro = ts.pro_api()\n",
    "df = pro.daily(ts_code='000001.SZ', start_date='20200101', end_date='20200301')\n"
   ]
  },
  {
   "cell_type": "code",
   "execution_count": 2,
   "metadata": {},
   "outputs": [
    {
     "data": {
      "text/html": [
       "<div>\n",
       "<style scoped>\n",
       "    .dataframe tbody tr th:only-of-type {\n",
       "        vertical-align: middle;\n",
       "    }\n",
       "\n",
       "    .dataframe tbody tr th {\n",
       "        vertical-align: top;\n",
       "    }\n",
       "\n",
       "    .dataframe thead th {\n",
       "        text-align: right;\n",
       "    }\n",
       "</style>\n",
       "<table border=\"1\" class=\"dataframe\">\n",
       "  <thead>\n",
       "    <tr style=\"text-align: right;\">\n",
       "      <th></th>\n",
       "      <th>ts_code</th>\n",
       "      <th>trade_date</th>\n",
       "      <th>open</th>\n",
       "      <th>high</th>\n",
       "      <th>low</th>\n",
       "      <th>close</th>\n",
       "      <th>pre_close</th>\n",
       "      <th>change</th>\n",
       "      <th>pct_chg</th>\n",
       "      <th>vol</th>\n",
       "      <th>amount</th>\n",
       "    </tr>\n",
       "  </thead>\n",
       "  <tbody>\n",
       "    <tr>\n",
       "      <th>0</th>\n",
       "      <td>000001.SZ</td>\n",
       "      <td>20200228</td>\n",
       "      <td>14.85</td>\n",
       "      <td>15.04</td>\n",
       "      <td>14.46</td>\n",
       "      <td>14.50</td>\n",
       "      <td>15.11</td>\n",
       "      <td>-0.61</td>\n",
       "      <td>-4.0371</td>\n",
       "      <td>1300644.45</td>\n",
       "      <td>1906892.413</td>\n",
       "    </tr>\n",
       "    <tr>\n",
       "      <th>1</th>\n",
       "      <td>000001.SZ</td>\n",
       "      <td>20200227</td>\n",
       "      <td>14.96</td>\n",
       "      <td>15.15</td>\n",
       "      <td>14.89</td>\n",
       "      <td>15.11</td>\n",
       "      <td>14.99</td>\n",
       "      <td>0.12</td>\n",
       "      <td>0.8005</td>\n",
       "      <td>975270.90</td>\n",
       "      <td>1464605.739</td>\n",
       "    </tr>\n",
       "    <tr>\n",
       "      <th>2</th>\n",
       "      <td>000001.SZ</td>\n",
       "      <td>20200226</td>\n",
       "      <td>14.77</td>\n",
       "      <td>15.27</td>\n",
       "      <td>14.70</td>\n",
       "      <td>14.99</td>\n",
       "      <td>15.04</td>\n",
       "      <td>-0.05</td>\n",
       "      <td>-0.3324</td>\n",
       "      <td>1176599.15</td>\n",
       "      <td>1769612.245</td>\n",
       "    </tr>\n",
       "    <tr>\n",
       "      <th>3</th>\n",
       "      <td>000001.SZ</td>\n",
       "      <td>20200225</td>\n",
       "      <td>15.00</td>\n",
       "      <td>15.13</td>\n",
       "      <td>14.78</td>\n",
       "      <td>15.04</td>\n",
       "      <td>15.23</td>\n",
       "      <td>-0.19</td>\n",
       "      <td>-1.2475</td>\n",
       "      <td>1144575.02</td>\n",
       "      <td>1710369.786</td>\n",
       "    </tr>\n",
       "    <tr>\n",
       "      <th>4</th>\n",
       "      <td>000001.SZ</td>\n",
       "      <td>20200224</td>\n",
       "      <td>15.46</td>\n",
       "      <td>15.46</td>\n",
       "      <td>15.15</td>\n",
       "      <td>15.23</td>\n",
       "      <td>15.58</td>\n",
       "      <td>-0.35</td>\n",
       "      <td>-2.2465</td>\n",
       "      <td>1191794.50</td>\n",
       "      <td>1820183.854</td>\n",
       "    </tr>\n",
       "  </tbody>\n",
       "</table>\n",
       "</div>"
      ],
      "text/plain": [
       "     ts_code trade_date   open   high    low  close  pre_close  change  \\\n",
       "0  000001.SZ   20200228  14.85  15.04  14.46  14.50      15.11   -0.61   \n",
       "1  000001.SZ   20200227  14.96  15.15  14.89  15.11      14.99    0.12   \n",
       "2  000001.SZ   20200226  14.77  15.27  14.70  14.99      15.04   -0.05   \n",
       "3  000001.SZ   20200225  15.00  15.13  14.78  15.04      15.23   -0.19   \n",
       "4  000001.SZ   20200224  15.46  15.46  15.15  15.23      15.58   -0.35   \n",
       "\n",
       "   pct_chg         vol       amount  \n",
       "0  -4.0371  1300644.45  1906892.413  \n",
       "1   0.8005   975270.90  1464605.739  \n",
       "2  -0.3324  1176599.15  1769612.245  \n",
       "3  -1.2475  1144575.02  1710369.786  \n",
       "4  -2.2465  1191794.50  1820183.854  "
      ]
     },
     "execution_count": 2,
     "metadata": {},
     "output_type": "execute_result"
    }
   ],
   "source": [
    "open = df.open\n",
    "high = df.high\n",
    "low = df.low\n",
    "close = df.close\n",
    "pre_close = df.pre_close\n",
    "change = df.change\n",
    "pct_chg = df.pct_chg\n",
    "volume = df.vol\n",
    "amount = df.amount\n",
    "df.head()"
   ]
  },
  {
   "cell_type": "markdown",
   "metadata": {},
   "source": [
    "## AD             -      Chaikin A/D Line - 量价指标"
   ]
  },
  {
   "cell_type": "markdown",
   "metadata": {},
   "source": [
    "函数名：AD"
   ]
  },
  {
   "cell_type": "markdown",
   "metadata": {},
   "source": [
    "名称：Chaikin A/D Line 累积/派发线（Accumulation/Distribution Line）"
   ]
  },
  {
   "cell_type": "markdown",
   "metadata": {},
   "source": [
    "简介：Marc Chaikin提出的一种平衡交易量指标，以当日的收盘价位来估算成交流量，用于估定一段时间内该证券累积的资金流量。"
   ]
  },
  {
   "cell_type": "markdown",
   "metadata": {},
   "source": [
    "计算公式：\n",
    "A/D = 昨日A/D + 多空对比 * 今日成交量 多空对比 = [（收盘价- 最低价） - （最高价 - 收盘价）] / （最高价 - 最低价) "
   ]
  },
  {
   "cell_type": "markdown",
   "metadata": {},
   "source": [
    "若最高价等于最低价： 多空对比 = （收盘价 / 昨收盘） - 1"
   ]
  },
  {
   "cell_type": "raw",
   "metadata": {},
   "source": [
    "研判：\n",
    "1、A/D测量资金流向，向上的A/D表明买方占优势，而向下的A/D表明卖方占优势\n",
    "2、A/D与价格的背离可视为买卖信号，即底背离考虑买入，顶背离考虑卖出\n",
    "3、应当注意A/D忽略了缺口的影响，事实上，跳空缺口的意义是不能轻易忽略的\n",
    "A/D指标无需设置参数，但在应用时，可结合指标的均线进行分析}"
   ]
  },
  {
   "cell_type": "code",
   "execution_count": 3,
   "metadata": {},
   "outputs": [],
   "source": [
    "real = ta.AD(high, low, close, volume)"
   ]
  },
  {
   "cell_type": "markdown",
   "metadata": {},
   "source": [
    "## ADOSC        -        Chaikin A/D Oscillator"
   ]
  },
  {
   "cell_type": "markdown",
   "metadata": {},
   "source": [
    "函数名：ADOSC"
   ]
  },
  {
   "cell_type": "markdown",
   "metadata": {},
   "source": [
    "名称：Chaikin A/D Oscillator Chaikin震荡指标"
   ]
  },
  {
   "cell_type": "markdown",
   "metadata": {},
   "source": [
    "简介：将资金流动情况与价格行为相对比，检测市场中资金流入和流出的情况"
   ]
  },
  {
   "cell_type": "markdown",
   "metadata": {},
   "source": [
    "计算公式：fastperiod A/D - slowperiod A/D"
   ]
  },
  {
   "cell_type": "raw",
   "metadata": {},
   "source": [
    "研判：\n",
    "1、交易信号是背离：看涨背离做多，看跌背离做空\n",
    "2、股价与90天移动平均结合，与其他指标结合\n",
    "3、由正变负卖出，由负变正买进"
   ]
  },
  {
   "cell_type": "code",
   "execution_count": 4,
   "metadata": {},
   "outputs": [],
   "source": [
    "real = ta.ADOSC(high, low, close, volume, fastperiod=3, slowperiod=10)"
   ]
  },
  {
   "cell_type": "markdown",
   "metadata": {},
   "source": [
    "## OBV         -         On Balance Volume"
   ]
  },
  {
   "cell_type": "markdown",
   "metadata": {},
   "source": [
    "函数名：OBV"
   ]
  },
  {
   "cell_type": "markdown",
   "metadata": {},
   "source": [
    "名称：On Balance Volume 能量潮"
   ]
  },
  {
   "cell_type": "markdown",
   "metadata": {},
   "source": [
    "简介：Joe Granville提出，通过统计成交量变动的趋势推测股价趋势"
   ]
  },
  {
   "cell_type": "markdown",
   "metadata": {},
   "source": [
    "计算公式：以某日为基期，逐日累计每日上市股票总成交量，若隔日指数或股票上涨 ，则基期OBV加上本日成交量为本日OBV。隔日指数或股票下跌， 则基期OBV减去本日成交量为本日OBV"
   ]
  },
  {
   "cell_type": "raw",
   "metadata": {},
   "source": [
    "研判：\n",
    "1、以“N”字型为波动单位，一浪高于一浪称“上升潮”，下跌称“跌潮”；上升潮买进，跌潮卖出\n",
    "2、须配合K线图走势\n",
    "3、用多空比率净额法进行修正，但不知TA-Lib采用哪种方法"
   ]
  },
  {
   "cell_type": "markdown",
   "metadata": {},
   "source": [
    "计算公式： 多空比率净额= [（收盘价－最低价）－（最高价-收盘价）] ÷（ 最高价－最低价）×成交量"
   ]
  },
  {
   "cell_type": "code",
   "execution_count": 5,
   "metadata": {},
   "outputs": [],
   "source": [
    "real = ta.OBV(close, volume)"
   ]
  }
 ],
 "metadata": {
  "kernelspec": {
   "display_name": "Python 3",
   "language": "python",
   "name": "python3"
  },
  "language_info": {
   "codemirror_mode": {
    "name": "ipython",
    "version": 3
   },
   "file_extension": ".py",
   "mimetype": "text/x-python",
   "name": "python",
   "nbconvert_exporter": "python",
   "pygments_lexer": "ipython3",
   "version": "3.7.3"
  }
 },
 "nbformat": 4,
 "nbformat_minor": 2
}
